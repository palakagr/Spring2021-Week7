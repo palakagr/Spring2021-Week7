{
 "cells": [
  {
   "cell_type": "code",
   "execution_count": 1,
   "metadata": {
    "colab": {
     "base_uri": "https://localhost:8080/"
    },
    "executionInfo": {
     "elapsed": 3711,
     "status": "ok",
     "timestamp": 1615773056310,
     "user": {
      "displayName": "Guray Erus",
      "photoUrl": "https://lh3.googleusercontent.com/a-/AOh14GiGnBNnSM10DAl86Xzx2wV9MnzBNDvcAv6FeVBn=s64",
      "userId": "15374812584437350386"
     },
     "user_tz": 240
    },
    "id": "lGHBC3kR931B",
    "outputId": "84226b85-9cbe-4752-d3f8-a93e9e12fdd4"
   },
   "outputs": [
    {
     "name": "stdout",
     "output_type": "stream",
     "text": [
      "Requirement already satisfied: tifffile in /home/guray/anaconda3/lib/python3.8/site-packages (2021.3.5)\r\n",
      "Requirement already satisfied: numpy>=1.15.1 in /home/guray/anaconda3/lib/python3.8/site-packages (from tifffile) (1.18.5)\r\n"
     ]
    }
   ],
   "source": [
    "!pip install tifffile   "
   ]
  },
  {
   "cell_type": "code",
   "execution_count": 2,
   "metadata": {
    "colab": {
     "base_uri": "https://localhost:8080/"
    },
    "executionInfo": {
     "elapsed": 18435,
     "status": "ok",
     "timestamp": 1615773085826,
     "user": {
      "displayName": "Guray Erus",
      "photoUrl": "https://lh3.googleusercontent.com/a-/AOh14GiGnBNnSM10DAl86Xzx2wV9MnzBNDvcAv6FeVBn=s64",
      "userId": "15374812584437350386"
     },
     "user_tz": 240
    },
    "id": "h2spD3s-41Q6",
    "outputId": "639188ab-0556-4bd1-d734-b2567a10fed3"
   },
   "outputs": [],
   "source": [
    "#from google.colab import drive\n",
    "#drive.mount('/content/drive')"
   ]
  },
  {
   "cell_type": "code",
   "execution_count": 3,
   "metadata": {
    "executionInfo": {
     "elapsed": 1958,
     "status": "ok",
     "timestamp": 1615773087191,
     "user": {
      "displayName": "Guray Erus",
      "photoUrl": "https://lh3.googleusercontent.com/a-/AOh14GiGnBNnSM10DAl86Xzx2wV9MnzBNDvcAv6FeVBn=s64",
      "userId": "15374812584437350386"
     },
     "user_tz": 240
    },
    "id": "tmS22UzS4zRa"
   },
   "outputs": [],
   "source": [
    "import sys\n",
    "import numpy as np\n",
    "import pandas as pd\n",
    "import os\n",
    "from skimage.transform import resize\n",
    "import pickle\n",
    "import matplotlib\n",
    "import matplotlib.pyplot as plt\n",
    "from sklearn import cluster\n",
    "\n",
    "import matplotlib.pyplot as plt\n",
    "from sklearn.svm import SVC\n",
    "from sklearn.ensemble import RandomForestClassifier\n",
    "from sklearn.model_selection import train_test_split\n",
    "from sklearn.model_selection import StratifiedShuffleSplit\n",
    "from sklearn.model_selection import StratifiedKFold\n",
    "\n",
    "from sklearn.utils import shuffle\n",
    "\n",
    "from sklearn import preprocessing"
   ]
  },
  {
   "cell_type": "code",
   "execution_count": 4,
   "metadata": {
    "executionInfo": {
     "elapsed": 261,
     "status": "ok",
     "timestamp": 1615773092247,
     "user": {
      "displayName": "Guray Erus",
      "photoUrl": "https://lh3.googleusercontent.com/a-/AOh14GiGnBNnSM10DAl86Xzx2wV9MnzBNDvcAv6FeVBn=s64",
      "userId": "15374812584437350386"
     },
     "user_tz": 240
    },
    "id": "tj44FkgbppQz"
   },
   "outputs": [],
   "source": [
    "############################################\n",
    "## Functions\n",
    "\n",
    "def imgToFeatVec(imgIn):\n",
    "    dataMat = pickle.load(open(imgIn, \"rb\"))\n",
    "    dataMat = dataMat[:,:,0].squeeze().flatten()\n",
    "    return dataMat"
   ]
  },
  {
   "cell_type": "code",
   "execution_count": 5,
   "metadata": {
    "colab": {
     "base_uri": "https://localhost:8080/",
     "height": 35
    },
    "executionInfo": {
     "elapsed": 261,
     "status": "ok",
     "timestamp": 1615773113301,
     "user": {
      "displayName": "Guray Erus",
      "photoUrl": "https://lh3.googleusercontent.com/a-/AOh14GiGnBNnSM10DAl86Xzx2wV9MnzBNDvcAv6FeVBn=s64",
      "userId": "15374812584437350386"
     },
     "user_tz": 240
    },
    "id": "J34TtX25pv4f",
    "outputId": "d5265f63-de6f-467d-914a-ca2277a08c7d"
   },
   "outputs": [
    {
     "data": {
      "text/plain": [
       "'./Data/Prj_EuroSat/Out/Data_p20_c2-4-5-8-9/ListImages_p20_c2-4-5-8-9.csv'"
      ]
     },
     "execution_count": 5,
     "metadata": {},
     "output_type": "execute_result"
    }
   ],
   "source": [
    "############################################\n",
    "## Hard coded paths and vars\n",
    "BDIR = './Data/Prj_EuroSat/Out/Data_p20_c2-4-5-8-9'\n",
    "listImg = BDIR + '/ListImages_p20_c2-4-5-8-9.csv'\n",
    "\n",
    "SEL_LABEL = 'Forest'\n",
    "listImg"
   ]
  },
  {
   "cell_type": "code",
   "execution_count": 6,
   "metadata": {
    "executionInfo": {
     "elapsed": 1075,
     "status": "ok",
     "timestamp": 1615773118156,
     "user": {
      "displayName": "Guray Erus",
      "photoUrl": "https://lh3.googleusercontent.com/a-/AOh14GiGnBNnSM10DAl86Xzx2wV9MnzBNDvcAv6FeVBn=s64",
      "userId": "15374812584437350386"
     },
     "user_tz": 240
    },
    "id": "BMijb6NOp0PP"
   },
   "outputs": [],
   "source": [
    "## Read data\n",
    "df = pd.read_csv(listImg)\n",
    "df['MatName'] = BDIR + '/ImagesMat/' + df.ImgName + '.p'\n"
   ]
  },
  {
   "cell_type": "code",
   "execution_count": 7,
   "metadata": {
    "executionInfo": {
     "elapsed": 445241,
     "status": "ok",
     "timestamp": 1615773583116,
     "user": {
      "displayName": "Guray Erus",
      "photoUrl": "https://lh3.googleusercontent.com/a-/AOh14GiGnBNnSM10DAl86Xzx2wV9MnzBNDvcAv6FeVBn=s64",
      "userId": "15374812584437350386"
     },
     "user_tz": 240
    },
    "id": "j7sczmoN3eIB"
   },
   "outputs": [],
   "source": [
    "## Binarize categories (selected label=1, others=0)\n",
    "df['CAT'] = 0\n",
    "df.loc[df.CType==SEL_LABEL, 'CAT'] = 1\n",
    "\n",
    "featVecSize = imgToFeatVec(df.MatName[0]).shape[0]\n",
    "dataMat = np.zeros([df.shape[0], featVecSize])\n",
    "\n",
    "for i, tmpRow in df.iterrows():\n",
    "    dataMat[i,:] = imgToFeatVec(tmpRow.MatName)\n",
    "labels = np.array(df.CAT)\n"
   ]
  },
  {
   "cell_type": "markdown",
   "metadata": {
    "id": "cz_sZzJT3eIE"
   },
   "source": [
    "## Split sample training/testing"
   ]
  },
  {
   "cell_type": "code",
   "execution_count": 8,
   "metadata": {
    "executionInfo": {
     "elapsed": 518,
     "status": "ok",
     "timestamp": 1615773583656,
     "user": {
      "displayName": "Guray Erus",
      "photoUrl": "https://lh3.googleusercontent.com/a-/AOh14GiGnBNnSM10DAl86Xzx2wV9MnzBNDvcAv6FeVBn=s64",
      "userId": "15374812584437350386"
     },
     "user_tz": 240
    },
    "id": "yLGALttop6Av"
   },
   "outputs": [],
   "source": [
    "### Select balanced training data\n",
    "indPos = np.where(labels==1)[0]\n",
    "indNeg = shuffle(np.where(labels==0)[0], random_state=42)[0:indPos.shape[0]]\n",
    "\n",
    "indBal = shuffle(np.concatenate([indPos,indNeg]), random_state=42)\n",
    "\n",
    "XBal = dataMat[indBal, :]\n",
    "YBal = labels[indBal]\n",
    "\n",
    "scaler = preprocessing.StandardScaler().fit(XBal)\n",
    "XBalSc = scaler.transform(XBal)\n",
    "\n",
    "X = XBalSc\n",
    "y = YBal\n",
    "\n",
    "X_train, X_test, y_train, y_test = train_test_split(XBalSc, YBal, stratify = YBal, train_size = 0.5, random_state=42)"
   ]
  },
  {
   "cell_type": "code",
   "execution_count": 9,
   "metadata": {
    "colab": {
     "base_uri": "https://localhost:8080/",
     "height": 70
    },
    "executionInfo": {
     "elapsed": 527604,
     "status": "ok",
     "timestamp": 1583163882760,
     "user": {
      "displayName": "Guray Erus",
      "photoUrl": "",
      "userId": "15374812584437350386"
     },
     "user_tz": 300
    },
    "id": "zMVisPsxp9g_",
    "outputId": "b24a1c43-da1e-4907-f396-d0b0eb4b4b3d"
   },
   "outputs": [
    {
     "name": "stdout",
     "output_type": "stream",
     "text": [
      "Train size: 600\n",
      "Training the model ...\n",
      "Applying the model ...\n"
     ]
    }
   ],
   "source": [
    "svc = SVC(kernel='linear')\n",
    "\n",
    "print('Train size: ' + str(y_train.shape[0]))\n",
    "\n",
    "### Training the model\n",
    "print('Training the model ...')\n",
    "svc.fit(X_train, y_train)\n",
    "\n",
    "print('Applying the model ...')\n",
    "yPred = svc.predict(X_test)"
   ]
  },
  {
   "cell_type": "code",
   "execution_count": 10,
   "metadata": {
    "colab": {
     "base_uri": "https://localhost:8080/",
     "height": 34
    },
    "executionInfo": {
     "elapsed": 527598,
     "status": "ok",
     "timestamp": 1583163882761,
     "user": {
      "displayName": "Guray Erus",
      "photoUrl": "",
      "userId": "15374812584437350386"
     },
     "user_tz": 300
    },
    "id": "AKo_xmXS0iMp",
    "outputId": "4f2e4bd4-9bb3-46b7-87fa-20b257bff9ee"
   },
   "outputs": [
    {
     "name": "stdout",
     "output_type": "stream",
     "text": [
      "Accuracy: 84.83333333333333\n"
     ]
    }
   ],
   "source": [
    "print( 'Accuracy: ' + str(100 * np.sum(yPred==y_test) / y_test.shape[0]))"
   ]
  },
  {
   "cell_type": "markdown",
   "metadata": {
    "id": "ZB2D6as93eIO"
   },
   "source": [
    "## k-Fold Cross-Validation (CV)"
   ]
  },
  {
   "cell_type": "code",
   "execution_count": 11,
   "metadata": {
    "colab": {
     "base_uri": "https://localhost:8080/",
     "height": 193
    },
    "executionInfo": {
     "elapsed": 547555,
     "status": "ok",
     "timestamp": 1583163902724,
     "user": {
      "displayName": "Guray Erus",
      "photoUrl": "",
      "userId": "15374812584437350386"
     },
     "user_tz": 300
    },
    "id": "CUKZI9q23eIP",
    "outputId": "0af9ec2b-aa34-4d58-823d-64caa6f3c8e9"
   },
   "outputs": [
    {
     "name": "stdout",
     "output_type": "stream",
     "text": [
      "Training the model for fold: 0\n",
      "  Acc : 0.8533333333333334\n",
      "Training the model for fold: 1\n",
      "  Acc : 0.86\n",
      "Training the model for fold: 2\n",
      "  Acc : 0.8366666666666667\n",
      "Training the model for fold: 3\n",
      "  Acc : 0.8266666666666667\n",
      "Avg Acc. :0.8441666666666666\n",
      "Acc. for the combined folds :0.8441666666666666\n"
     ]
    }
   ],
   "source": [
    "NUM_FOLD = 4 \n",
    "\n",
    "from sklearn.model_selection import KFold\n",
    "kf = KFold(n_splits=4)\n",
    "\n",
    "yPredAll = np.zeros(y.shape[0])\n",
    "accAll = np.zeros(NUM_FOLD)\n",
    "\n",
    "svc = SVC(kernel='linear')\n",
    "\n",
    "indFold = 0\n",
    "for train_index, test_index in kf.split(X):\n",
    "\n",
    "    XTrain   = X[train_index]\n",
    "    yTrain = y[train_index]\n",
    "\n",
    "    XTest    = X[test_index]\n",
    "    yTest  = y[test_index]\n",
    "\n",
    "    ### Training the model\n",
    "    print('Training the model for fold: ' + str(indFold))\n",
    "    svc.fit(XTrain, yTrain)\n",
    "\n",
    "    yPred = svc.predict(XTest)\n",
    "\n",
    "    # accuracy for the current fold only    \n",
    "    accFold = np.sum(yPred==yTest) / yTest.shape[0]\n",
    "    accAll[indFold] = accFold\n",
    "    print('  Acc : ' + str(accFold))\n",
    "    \n",
    "    yPredAll[test_index] = yPred\n",
    "\n",
    "    indFold = indFold + 1\n",
    "\n",
    "# Average accuracy over all folds\n",
    "accAvg = np.mean(accAll)\n",
    "print('Avg Acc. :' + str(accAvg))\n",
    "\n",
    "acc =  np.sum(y==yPredAll) / y.shape[0]\n",
    "print('Acc. for the combined folds :' + str(acc))\n"
   ]
  },
  {
   "cell_type": "markdown",
   "metadata": {
    "id": "snNlXGfr3eIT"
   },
   "source": [
    "## k-Fold Cross-Validation using scikit functions"
   ]
  },
  {
   "cell_type": "code",
   "execution_count": 12,
   "metadata": {
    "colab": {
     "base_uri": "https://localhost:8080/",
     "height": 34
    },
    "executionInfo": {
     "elapsed": 566975,
     "status": "ok",
     "timestamp": 1583163922150,
     "user": {
      "displayName": "Guray Erus",
      "photoUrl": "",
      "userId": "15374812584437350386"
     },
     "user_tz": 300
    },
    "id": "ZzGgfw353eIU",
    "outputId": "e4f40be1-6434-45b9-8891-76e3c347d5eb"
   },
   "outputs": [
    {
     "name": "stdout",
     "output_type": "stream",
     "text": [
      "[0.84333333 0.84       0.85333333 0.84333333]\n"
     ]
    }
   ],
   "source": [
    "from sklearn.model_selection import cross_val_score\n",
    "cc = cross_val_score(svc, X, y, cv=4)\n"
   ]
  },
  {
   "cell_type": "code",
   "execution_count": 13,
   "metadata": {
    "colab": {
     "base_uri": "https://localhost:8080/",
     "height": 34
    },
    "executionInfo": {
     "elapsed": 10679,
     "status": "ok",
     "timestamp": 1583164878653,
     "user": {
      "displayName": "Guray Erus",
      "photoUrl": "",
      "userId": "15374812584437350386"
     },
     "user_tz": 300
    },
    "id": "bLbE3a21-hIt",
    "outputId": "8d344ce9-9cd1-4c37-f028-7ddf4e345c88"
   },
   "outputs": [
    {
     "data": {
      "text/plain": [
       "0.845"
      ]
     },
     "execution_count": 13,
     "metadata": {},
     "output_type": "execute_result"
    }
   ],
   "source": [
    "cc=cross_val_score(svc, X, y, cv=4)\n",
    "cc.mean()"
   ]
  },
  {
   "cell_type": "code",
   "execution_count": 20,
   "metadata": {
    "colab": {
     "base_uri": "https://localhost:8080/",
     "height": 34
    },
    "executionInfo": {
     "elapsed": 271,
     "status": "ok",
     "timestamp": 1583164885729,
     "user": {
      "displayName": "Guray Erus",
      "photoUrl": "",
      "userId": "15374812584437350386"
     },
     "user_tz": 300
    },
    "id": "JKN404_X-uAS",
    "outputId": "7af542d9-f0bd-40a5-f3f6-0c6e0168c358"
   },
   "outputs": [
    {
     "data": {
      "text/plain": [
       "array([0.84333333, 0.84      , 0.85333333, 0.84333333])"
      ]
     },
     "execution_count": 20,
     "metadata": {},
     "output_type": "execute_result"
    }
   ],
   "source": [
    "cc"
   ]
  },
  {
   "cell_type": "markdown",
   "metadata": {
    "id": "C9UvTUjS3eIW"
   },
   "source": [
    "## Cross-validated parameter optimization"
   ]
  },
  {
   "cell_type": "code",
   "execution_count": 15,
   "metadata": {
    "colab": {
     "base_uri": "https://localhost:8080/",
     "height": 210
    },
    "executionInfo": {
     "elapsed": 697082,
     "status": "ok",
     "timestamp": 1583164052262,
     "user": {
      "displayName": "Guray Erus",
      "photoUrl": "",
      "userId": "15374812584437350386"
     },
     "user_tz": 300
    },
    "id": "oDVUqbpI3eIX",
    "outputId": "992047fe-dc20-4dbe-8c90-fa301a27a0b3"
   },
   "outputs": [
    {
     "data": {
      "text/plain": [
       "GridSearchCV(estimator=SVC(),\n",
       "             param_grid={'C': [1, 10], 'kernel': ('linear', 'rbf')})"
      ]
     },
     "execution_count": 15,
     "metadata": {},
     "output_type": "execute_result"
    }
   ],
   "source": [
    "from sklearn import svm\n",
    "from sklearn.model_selection import GridSearchCV\n",
    "\n",
    "import warnings\n",
    "warnings.filterwarnings('ignore')\n",
    "\n",
    "parameters = {'kernel':('linear', 'rbf'), 'C':[1, 10]}\n",
    "svc = svm.SVC()\n",
    "clf = GridSearchCV(svc, parameters)\n",
    "clf.fit(X, y)"
   ]
  },
  {
   "cell_type": "code",
   "execution_count": 16,
   "metadata": {
    "colab": {
     "base_uri": "https://localhost:8080/",
     "height": 439
    },
    "executionInfo": {
     "elapsed": 697077,
     "status": "ok",
     "timestamp": 1583164052263,
     "user": {
      "displayName": "Guray Erus",
      "photoUrl": "",
      "userId": "15374812584437350386"
     },
     "user_tz": 300
    },
    "id": "fhQLPPYa3eIa",
    "outputId": "e1b26931-089d-4594-9c6f-d79b477ce370"
   },
   "outputs": [
    {
     "data": {
      "text/plain": [
       "{'mean_fit_time': array([ 3.17091298,  1.30637569, 10.84390197,  1.16855392]),\n",
       " 'std_fit_time': array([0.13260281, 0.03764787, 1.77604154, 0.04355371]),\n",
       " 'mean_score_time': array([0.2937963 , 0.26919637, 0.28066282, 0.23143258]),\n",
       " 'std_score_time': array([0.02212282, 0.0038096 , 0.00632206, 0.01177497]),\n",
       " 'param_C': masked_array(data=[1, 1, 10, 10],\n",
       "              mask=[False, False, False, False],\n",
       "        fill_value='?',\n",
       "             dtype=object),\n",
       " 'param_kernel': masked_array(data=['linear', 'rbf', 'linear', 'rbf'],\n",
       "              mask=[False, False, False, False],\n",
       "        fill_value='?',\n",
       "             dtype=object),\n",
       " 'params': [{'C': 1, 'kernel': 'linear'},\n",
       "  {'C': 1, 'kernel': 'rbf'},\n",
       "  {'C': 10, 'kernel': 'linear'},\n",
       "  {'C': 10, 'kernel': 'rbf'}],\n",
       " 'split0_test_score': array([0.8375    , 0.87083333, 0.82916667, 0.9125    ]),\n",
       " 'split1_test_score': array([0.84166667, 0.88333333, 0.81666667, 0.91666667]),\n",
       " 'split2_test_score': array([0.86666667, 0.88333333, 0.825     , 0.9375    ]),\n",
       " 'split3_test_score': array([0.85833333, 0.90416667, 0.83333333, 0.93333333]),\n",
       " 'split4_test_score': array([0.825     , 0.875     , 0.84583333, 0.91666667]),\n",
       " 'mean_test_score': array([0.84583333, 0.88333333, 0.83      , 0.92333333]),\n",
       " 'std_test_score': array([0.01490712, 0.01148671, 0.00964653, 0.0100692 ]),\n",
       " 'rank_test_score': array([3, 2, 4, 1], dtype=int32)}"
      ]
     },
     "execution_count": 16,
     "metadata": {},
     "output_type": "execute_result"
    }
   ],
   "source": [
    "clf.cv_results_"
   ]
  },
  {
   "cell_type": "markdown",
   "metadata": {
    "id": "8Zo-0jqa3eId"
   },
   "source": [
    "## Nested cross-validation\n",
    "- Inner loop: parameter optimization\n",
    "- Outer loop: k-fold CV to calculate test accuracy\n",
    "\n",
    "https://scikit-learn.org/stable/auto_examples/model_selection/plot_nested_cross_validation_iris.html"
   ]
  },
  {
   "cell_type": "code",
   "execution_count": 17,
   "metadata": {
    "colab": {
     "base_uri": "https://localhost:8080/",
     "height": 518
    },
    "executionInfo": {
     "elapsed": 1013853,
     "status": "ok",
     "timestamp": 1583167406366,
     "user": {
      "displayName": "Guray Erus",
      "photoUrl": "",
      "userId": "15374812584437350386"
     },
     "user_tz": 300
    },
    "id": "-6ZeJFxK3eId",
    "outputId": "2c18c74b-f820-43d3-d704-eebe5acd955b"
   },
   "outputs": [
    {
     "name": "stdout",
     "output_type": "stream",
     "text": [
      "Automatically created module for IPython interactive environment\n",
      "Ind trial: 0\n",
      "Ind trial: 1\n",
      "Ind trial: 2\n",
      "Ind trial: 3\n",
      "Ind trial: 4\n",
      "Ind trial: 5\n",
      "Ind trial: 6\n",
      "Ind trial: 7\n",
      "Ind trial: 8\n",
      "Ind trial: 9\n",
      "Average difference of 0.013852 with std. dev. of 0.007918.\n"
     ]
    },
    {
     "data": {
      "image/png": "[encoded data removed]",
      "text/plain": [
       "<Figure size 432x288 with 2 Axes>"
      ]
     },
     "metadata": {
      "needs_background": "light"
     },
     "output_type": "display_data"
    }
   ],
   "source": [
    "from sklearn.datasets import load_iris\n",
    "from matplotlib import pyplot as plt\n",
    "from sklearn.svm import SVC\n",
    "from sklearn.model_selection import GridSearchCV, cross_val_score, KFold\n",
    "import numpy as np\n"
   ]
  },
  {
   "cell_type": "code",
   "execution_count": null,
   "metadata": {},
   "outputs": [],
   "source": [
    "print(__doc__)\n",
    "\n",
    "# Number of random trials\n",
    "NUM_TRIALS = 30\n",
    "\n",
    "# Load the dataset\n",
    "iris = load_iris()\n",
    "X_iris = iris.data\n",
    "y_iris = iris.target\n",
    "\n",
    "# Set up possible values of parameters to optimize over\n",
    "p_grid = {\"C\": [1, 10, 100],\n",
    "          \"gamma\": [.01, .1]}\n",
    "\n",
    "# We will use a Support Vector Classifier with \"rbf\" kernel\n",
    "svm = SVC(kernel=\"rbf\")\n",
    "\n",
    "# Arrays to store scores\n",
    "non_nested_scores = np.zeros(NUM_TRIALS)\n",
    "nested_scores = np.zeros(NUM_TRIALS)"
   ]
  },
  {
   "cell_type": "code",
   "execution_count": null,
   "metadata": {},
   "outputs": [],
   "source": [
    "# Loop for each trial\n",
    "for i in range(NUM_TRIALS):\n",
    "\n",
    "    # Choose cross-validation techniques for the inner and outer loops,\n",
    "    # independently of the dataset.\n",
    "    # E.g \"GroupKFold\", \"LeaveOneOut\", \"LeaveOneGroupOut\", etc.\n",
    "    inner_cv = KFold(n_splits=4, shuffle=True, random_state=i)\n",
    "    outer_cv = KFold(n_splits=4, shuffle=True, random_state=i)\n",
    "\n",
    "    # Non_nested parameter search and scoring\n",
    "    clf = GridSearchCV(estimator=svm, param_grid=p_grid, cv=inner_cv)\n",
    "    clf.fit(X_iris, y_iris)\n",
    "    non_nested_scores[i] = clf.best_score_\n",
    "\n",
    "    # Nested CV with parameter optimization\n",
    "    nested_score = cross_val_score(clf, X=X_iris, y=y_iris, cv=outer_cv)\n",
    "    nested_scores[i] = nested_score.mean()\n",
    "\n",
    "score_difference = non_nested_scores - nested_scores\n",
    "\n"
   ]
  },
  {
   "cell_type": "code",
   "execution_count": null,
   "metadata": {},
   "outputs": [],
   "source": [
    "print(\"Average difference of {:6f} with std. dev. of {:6f}.\"\n",
    "      .format(score_difference.mean(), score_difference.std()))\n",
    "\n",
    "# Plot scores on each trial for nested and non-nested CV\n",
    "plt.figure()\n",
    "plt.subplot(211)\n",
    "non_nested_scores_line, = plt.plot(non_nested_scores, color='r')\n",
    "nested_line, = plt.plot(nested_scores, color='b')\n",
    "plt.ylabel(\"score\", fontsize=\"14\")\n",
    "plt.legend([non_nested_scores_line, nested_line],\n",
    "           [\"Non-Nested CV\", \"Nested CV\"],\n",
    "           bbox_to_anchor=(0, .4, .5, 0))\n",
    "plt.title(\"Non-Nested and Nested Cross Validation on Iris Dataset\",\n",
    "          x=.5, y=1.1, fontsize=\"15\")\n",
    "\n",
    "# Plot bar chart of the difference.\n",
    "plt.subplot(212)\n",
    "difference_plot = plt.bar(range(NUM_TRIALS), score_difference)\n",
    "plt.xlabel(\"Individual Trial #\")\n",
    "plt.legend([difference_plot],\n",
    "           [\"Non-Nested CV - Nested CV Score\"],\n",
    "           bbox_to_anchor=(0, 1, .8, 0))\n",
    "plt.ylabel(\"score difference\", fontsize=\"14\")\n",
    "\n",
    "plt.show()"
   ]
  }
 ],
 "metadata": {
  "colab": {
   "collapsed_sections": [],
   "name": "PrjC2_EuroSat_Classification_CV.ipynb",
   "provenance": [
    {
     "file_id": "1wJo3Tsqy53ZwgNPy8gtZ3JgjDDQQK9vk",
     "timestamp": 1570414921066
    }
   ]
  },
  "kernelspec": {
   "display_name": "Python 3",
   "language": "python",
   "name": "python3"
  },
  "language_info": {
   "codemirror_mode": {
    "name": "ipython",
    "version": 3
   },
   "file_extension": ".py",
   "mimetype": "text/x-python",
   "name": "python",
   "nbconvert_exporter": "python",
   "pygments_lexer": "ipython3",
   "version": "3.8.3"
  }
 },
 "nbformat": 4,
 "nbformat_minor": 1
}
