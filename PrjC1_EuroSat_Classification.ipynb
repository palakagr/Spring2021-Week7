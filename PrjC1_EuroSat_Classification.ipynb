{
 "cells": [
  {
   "cell_type": "code",
   "execution_count": 1,
   "metadata": {
    "colab": {
     "base_uri": "https://localhost:8080/"
    },
    "executionInfo": {
     "elapsed": 4352,
     "status": "ok",
     "timestamp": 1615771895315,
     "user": {
      "displayName": "Guray Erus",
      "photoUrl": "https://lh3.googleusercontent.com/a-/AOh14GiGnBNnSM10DAl86Xzx2wV9MnzBNDvcAv6FeVBn=s64",
      "userId": "15374812584437350386"
     },
     "user_tz": 240
    },
    "id": "xZ8HKX8d9m4d",
    "outputId": "01273892-0538-4623-cc27-d4fb84372bb2"
   },
   "outputs": [
    {
     "name": "stdout",
     "output_type": "stream",
     "text": [
      "Requirement already satisfied: tifffile in /home/guray/anaconda3/lib/python3.8/site-packages (2021.3.5)\r\n",
      "Requirement already satisfied: numpy>=1.15.1 in /home/guray/anaconda3/lib/python3.8/site-packages (from tifffile) (1.18.5)\r\n"
     ]
    }
   ],
   "source": [
    "!pip install tifffile   "
   ]
  },
  {
   "cell_type": "markdown",
   "metadata": {
    "id": "s9yhmMGiDm9u"
   },
   "source": [
    "# New Section"
   ]
  },
  {
   "cell_type": "code",
   "execution_count": 2,
   "metadata": {
    "colab": {
     "base_uri": "https://localhost:8080/"
    },
    "executionInfo": {
     "elapsed": 19027,
     "status": "ok",
     "timestamp": 1615771915990,
     "user": {
      "displayName": "Guray Erus",
      "photoUrl": "https://lh3.googleusercontent.com/a-/AOh14GiGnBNnSM10DAl86Xzx2wV9MnzBNDvcAv6FeVBn=s64",
      "userId": "15374812584437350386"
     },
     "user_tz": 240
    },
    "id": "HRmamNb6B4N2",
    "outputId": "e086e67c-6cfc-4012-b0be-2202d270c152"
   },
   "outputs": [],
   "source": [
    "#from google.colab import drive\n",
    "#drive.mount('/content/drive')"
   ]
  },
  {
   "cell_type": "code",
   "execution_count": 3,
   "metadata": {
    "executionInfo": {
     "elapsed": 1745,
     "status": "ok",
     "timestamp": 1615771918822,
     "user": {
      "displayName": "Guray Erus",
      "photoUrl": "https://lh3.googleusercontent.com/a-/AOh14GiGnBNnSM10DAl86Xzx2wV9MnzBNDvcAv6FeVBn=s64",
      "userId": "15374812584437350386"
     },
     "user_tz": 240
    },
    "id": "lGHBC3kR931B"
   },
   "outputs": [],
   "source": [
    "import sys\n",
    "import numpy as np\n",
    "import pandas as pd\n",
    "import os\n",
    "from skimage.transform import resize\n",
    "import pickle\n",
    "import matplotlib\n",
    "import matplotlib.pyplot as plt\n",
    "from sklearn import cluster\n",
    "\n",
    "import matplotlib.pyplot as plt\n",
    "from sklearn.svm import SVC\n",
    "from sklearn.ensemble import RandomForestClassifier\n",
    "from sklearn.model_selection import train_test_split\n",
    "from sklearn.model_selection import StratifiedShuffleSplit\n",
    "from sklearn.model_selection import StratifiedKFold\n",
    "\n",
    "from sklearn.utils import shuffle\n",
    "\n",
    "from sklearn import preprocessing\n",
    "\n",
    "import tifffile as tiff\n"
   ]
  },
  {
   "cell_type": "code",
   "execution_count": 4,
   "metadata": {
    "executionInfo": {
     "elapsed": 259,
     "status": "ok",
     "timestamp": 1615771928007,
     "user": {
      "displayName": "Guray Erus",
      "photoUrl": "https://lh3.googleusercontent.com/a-/AOh14GiGnBNnSM10DAl86Xzx2wV9MnzBNDvcAv6FeVBn=s64",
      "userId": "15374812584437350386"
     },
     "user_tz": 240
    },
    "id": "tj44FkgbppQz"
   },
   "outputs": [],
   "source": [
    "############################################\n",
    "## Functions\n",
    "def imgToFeatVec(imgIn):\n",
    "    dataMat = pickle.load(open(imgIn, \"rb\"))\n",
    "    dataMat = dataMat[:,:,0].squeeze().flatten()\n",
    "    return dataMat"
   ]
  },
  {
   "cell_type": "code",
   "execution_count": 5,
   "metadata": {
    "executionInfo": {
     "elapsed": 221,
     "status": "ok",
     "timestamp": 1615771968575,
     "user": {
      "displayName": "Guray Erus",
      "photoUrl": "https://lh3.googleusercontent.com/a-/AOh14GiGnBNnSM10DAl86Xzx2wV9MnzBNDvcAv6FeVBn=s64",
      "userId": "15374812584437350386"
     },
     "user_tz": 240
    },
    "id": "J34TtX25pv4f"
   },
   "outputs": [],
   "source": [
    "############################################\n",
    "## Hard coded paths and vars\n",
    "BDIR = './Data/Prj_EuroSat/Out/Data_p20_c2-4-5-8-9'\n",
    "listImg = BDIR + '/ListImages_p20_c2-4-5-8-9.csv'\n",
    "\n",
    "SEL_LABEL = 'Forest'"
   ]
  },
  {
   "cell_type": "code",
   "execution_count": 6,
   "metadata": {
    "colab": {
     "base_uri": "https://localhost:8080/",
     "height": 285
    },
    "executionInfo": {
     "elapsed": 15081,
     "status": "ok",
     "timestamp": 1615771985986,
     "user": {
      "displayName": "Guray Erus",
      "photoUrl": "https://lh3.googleusercontent.com/a-/AOh14GiGnBNnSM10DAl86Xzx2wV9MnzBNDvcAv6FeVBn=s64",
      "userId": "15374812584437350386"
     },
     "user_tz": 240
    },
    "id": "3qmoABSh66lJ",
    "outputId": "6e7ab392-ee36-466d-b5c5-d81e2c21342e"
   },
   "outputs": [
    {
     "data": {
      "text/plain": [
       "<matplotlib.image.AxesImage at 0x7f06ba7ec8b0>"
      ]
     },
     "execution_count": 6,
     "metadata": {},
     "output_type": "execute_result"
    },
    {
     "data": {
      "image/png": "[encoded data removed]",
      "text/plain": [
       "<Figure size 432x288 with 1 Axes>"
      ]
     },
     "metadata": {
      "needs_background": "light"
     },
     "output_type": "display_data"
    }
   ],
   "source": [
    "tmp = BDIR + '/ImagesMat/Industrial_712.p'\n",
    "tmpMat = pickle.load(open(tmp, \"rb\"))\n",
    "tmpMat.shape\n",
    "plt.imshow(tmpMat[:,:,1], cmap='gray')"
   ]
  },
  {
   "cell_type": "code",
   "execution_count": 7,
   "metadata": {
    "colab": {
     "base_uri": "https://localhost:8080/"
    },
    "executionInfo": {
     "elapsed": 477,
     "status": "ok",
     "timestamp": 1615771996992,
     "user": {
      "displayName": "Guray Erus",
      "photoUrl": "https://lh3.googleusercontent.com/a-/AOh14GiGnBNnSM10DAl86Xzx2wV9MnzBNDvcAv6FeVBn=s64",
      "userId": "15374812584437350386"
     },
     "user_tz": 240
    },
    "id": "BMijb6NOp0PP",
    "outputId": "67a7b375-ce1c-4bd2-eb5c-1cc08d2b4e4b"
   },
   "outputs": [
    {
     "data": {
      "text/plain": [
       "array(['Forest', 'Highway', 'Industrial', 'Residential', 'River'],\n",
       "      dtype=object)"
      ]
     },
     "execution_count": 7,
     "metadata": {},
     "output_type": "execute_result"
    }
   ],
   "source": [
    "## Read data\n",
    "df = pd.read_csv(listImg)\n",
    "df['MatName'] = BDIR + '/ImagesMat/' + df.ImgName + '.p'\n",
    "df.CType.unique()\n"
   ]
  },
  {
   "cell_type": "code",
   "execution_count": 8,
   "metadata": {
    "colab": {
     "base_uri": "https://localhost:8080/",
     "height": 661
    },
    "executionInfo": {
     "elapsed": 13280,
     "status": "ok",
     "timestamp": 1615772015394,
     "user": {
      "displayName": "Guray Erus",
      "photoUrl": "https://lh3.googleusercontent.com/a-/AOh14GiGnBNnSM10DAl86Xzx2wV9MnzBNDvcAv6FeVBn=s64",
      "userId": "15374812584437350386"
     },
     "user_tz": 240
    },
    "id": "M8IJzz0VWVMv",
    "outputId": "ee38715e-76f5-4c22-8890-babad52bc639"
   },
   "outputs": [
    {
     "data": {
      "text/plain": [
       "array([[1755, 1763, 1764, 1713],\n",
       "       [1755, 1763, 1764, 1713],\n",
       "       [1784, 1771, 1780, 1768],\n",
       "       [1772, 1802, 1796, 1791]], dtype=uint16)"
      ]
     },
     "execution_count": 8,
     "metadata": {},
     "output_type": "execute_result"
    },
    {
     "data": {
      "image/png": "[encoded data removed]",
      "text/plain": [
       "<Figure size 988.8x604.8 with 1 Axes>"
      ]
     },
     "metadata": {},
     "output_type": "display_data"
    }
   ],
   "source": [
    "## Visualize an image with the label 'River'\n",
    "df = pd.read_csv(listImg)\n",
    "Rivers = df.loc[df['CType'] == 'River']\n",
    "image1 = tiff.imread(BDIR + '/Images/' + Rivers.ImgName.iloc[0] + '.tif')\n",
    "image1 = image1[:, :, [3, 2, 1]]\n",
    "\n",
    "tiff.imshow(image1)\n",
    "\n",
    "image2 = image1[0:4, 10:14,:]\n",
    "image2[:,:,1]"
   ]
  },
  {
   "cell_type": "code",
   "execution_count": 9,
   "metadata": {},
   "outputs": [
    {
     "data": {
      "text/plain": [
       "array(['Forest', 'Highway', 'Industrial', 'Residential', 'River'],\n",
       "      dtype=object)"
      ]
     },
     "execution_count": 9,
     "metadata": {},
     "output_type": "execute_result"
    }
   ],
   "source": [
    "df.CType.unique()"
   ]
  },
  {
   "cell_type": "code",
   "execution_count": 10,
   "metadata": {
    "colab": {
     "base_uri": "https://localhost:8080/",
     "height": 204
    },
    "executionInfo": {
     "elapsed": 223,
     "status": "ok",
     "timestamp": 1615772037067,
     "user": {
      "displayName": "Guray Erus",
      "photoUrl": "https://lh3.googleusercontent.com/a-/AOh14GiGnBNnSM10DAl86Xzx2wV9MnzBNDvcAv6FeVBn=s64",
      "userId": "15374812584437350386"
     },
     "user_tz": 240
    },
    "id": "6BBLwHLw8IwV",
    "outputId": "a8e8cae5-2716-4e52-8cba-f319643a3f47"
   },
   "outputs": [
    {
     "data": {
      "text/html": [
       "<div>\n",
       "<style scoped>\n",
       "    .dataframe tbody tr th:only-of-type {\n",
       "        vertical-align: middle;\n",
       "    }\n",
       "\n",
       "    .dataframe tbody tr th {\n",
       "        vertical-align: top;\n",
       "    }\n",
       "\n",
       "    .dataframe thead th {\n",
       "        text-align: right;\n",
       "    }\n",
       "</style>\n",
       "<table border=\"1\" class=\"dataframe\">\n",
       "  <thead>\n",
       "    <tr style=\"text-align: right;\">\n",
       "      <th></th>\n",
       "      <th>CNO</th>\n",
       "      <th>CType</th>\n",
       "      <th>ImgName</th>\n",
       "      <th>ImgPath</th>\n",
       "    </tr>\n",
       "  </thead>\n",
       "  <tbody>\n",
       "    <tr>\n",
       "      <th>0</th>\n",
       "      <td>2</td>\n",
       "      <td>Forest</td>\n",
       "      <td>Forest_2967</td>\n",
       "      <td>../Data/sentinel_2/tif/Forest/Forest_2967.tif</td>\n",
       "    </tr>\n",
       "    <tr>\n",
       "      <th>1</th>\n",
       "      <td>2</td>\n",
       "      <td>Forest</td>\n",
       "      <td>Forest_845</td>\n",
       "      <td>../Data/sentinel_2/tif/Forest/Forest_845.tif</td>\n",
       "    </tr>\n",
       "    <tr>\n",
       "      <th>2</th>\n",
       "      <td>2</td>\n",
       "      <td>Forest</td>\n",
       "      <td>Forest_296</td>\n",
       "      <td>../Data/sentinel_2/tif/Forest/Forest_296.tif</td>\n",
       "    </tr>\n",
       "    <tr>\n",
       "      <th>3</th>\n",
       "      <td>2</td>\n",
       "      <td>Forest</td>\n",
       "      <td>Forest_531</td>\n",
       "      <td>../Data/sentinel_2/tif/Forest/Forest_531.tif</td>\n",
       "    </tr>\n",
       "    <tr>\n",
       "      <th>4</th>\n",
       "      <td>2</td>\n",
       "      <td>Forest</td>\n",
       "      <td>Forest_2394</td>\n",
       "      <td>../Data/sentinel_2/tif/Forest/Forest_2394.tif</td>\n",
       "    </tr>\n",
       "  </tbody>\n",
       "</table>\n",
       "</div>"
      ],
      "text/plain": [
       "   CNO   CType      ImgName                                        ImgPath\n",
       "0    2  Forest  Forest_2967  ../Data/sentinel_2/tif/Forest/Forest_2967.tif\n",
       "1    2  Forest   Forest_845   ../Data/sentinel_2/tif/Forest/Forest_845.tif\n",
       "2    2  Forest   Forest_296   ../Data/sentinel_2/tif/Forest/Forest_296.tif\n",
       "3    2  Forest   Forest_531   ../Data/sentinel_2/tif/Forest/Forest_531.tif\n",
       "4    2  Forest  Forest_2394  ../Data/sentinel_2/tif/Forest/Forest_2394.tif"
      ]
     },
     "execution_count": 10,
     "metadata": {},
     "output_type": "execute_result"
    }
   ],
   "source": [
    "df.head()"
   ]
  },
  {
   "cell_type": "code",
   "execution_count": 11,
   "metadata": {
    "colab": {
     "base_uri": "https://localhost:8080/"
    },
    "executionInfo": {
     "elapsed": 226,
     "status": "ok",
     "timestamp": 1615772039570,
     "user": {
      "displayName": "Guray Erus",
      "photoUrl": "https://lh3.googleusercontent.com/a-/AOh14GiGnBNnSM10DAl86Xzx2wV9MnzBNDvcAv6FeVBn=s64",
      "userId": "15374812584437350386"
     },
     "user_tz": 240
    },
    "id": "dQAVRDcY62mc",
    "outputId": "3f294853-677c-4d89-d149-bec5b023f48c"
   },
   "outputs": [
    {
     "data": {
      "text/plain": [
       "2100"
      ]
     },
     "execution_count": 11,
     "metadata": {},
     "output_type": "execute_result"
    }
   ],
   "source": [
    "df['CAT'] = 0\n",
    "df.loc[df.CType==SEL_LABEL, 'CAT'] = 1\n",
    "np.sum(df.CAT==0)"
   ]
  },
  {
   "cell_type": "code",
   "execution_count": 12,
   "metadata": {
    "colab": {
     "base_uri": "https://localhost:8080/"
    },
    "executionInfo": {
     "elapsed": 465,
     "status": "ok",
     "timestamp": 1615772043999,
     "user": {
      "displayName": "Guray Erus",
      "photoUrl": "https://lh3.googleusercontent.com/a-/AOh14GiGnBNnSM10DAl86Xzx2wV9MnzBNDvcAv6FeVBn=s64",
      "userId": "15374812584437350386"
     },
     "user_tz": 240
    },
    "id": "j6S4lHQD895E",
    "outputId": "b8725c25-b3d3-4b5a-e4a1-ef04ade90ca6"
   },
   "outputs": [
    {
     "data": {
      "text/plain": [
       "(2700, 4096)"
      ]
     },
     "execution_count": 12,
     "metadata": {},
     "output_type": "execute_result"
    }
   ],
   "source": [
    "df.loc[:,'MatName'] = BDIR + '/ImagesMat/' + df.ImgName + '.p'\n",
    "featVecSize = imgToFeatVec(df.MatName[0]).shape[0]\n",
    "dataMat = np.zeros([df.shape[0], featVecSize])\n",
    "\n",
    "dataMat.shape\n"
   ]
  },
  {
   "cell_type": "code",
   "execution_count": 13,
   "metadata": {
    "executionInfo": {
     "elapsed": 457966,
     "status": "ok",
     "timestamp": 1615772507336,
     "user": {
      "displayName": "Guray Erus",
      "photoUrl": "https://lh3.googleusercontent.com/a-/AOh14GiGnBNnSM10DAl86Xzx2wV9MnzBNDvcAv6FeVBn=s64",
      "userId": "15374812584437350386"
     },
     "user_tz": 240
    },
    "id": "I7mBOCSj9-do"
   },
   "outputs": [],
   "source": [
    "for i, tmpRow in df.iterrows():\n",
    "  dataMat[i,:] = imgToFeatVec(tmpRow.MatName)\n",
    "labels = np.array(df.CAT)\n"
   ]
  },
  {
   "cell_type": "code",
   "execution_count": 14,
   "metadata": {
    "executionInfo": {
     "elapsed": 277,
     "status": "ok",
     "timestamp": 1615773010072,
     "user": {
      "displayName": "Guray Erus",
      "photoUrl": "https://lh3.googleusercontent.com/a-/AOh14GiGnBNnSM10DAl86Xzx2wV9MnzBNDvcAv6FeVBn=s64",
      "userId": "15374812584437350386"
     },
     "user_tz": 240
    },
    "id": "yLGALttop6Av"
   },
   "outputs": [
    {
     "data": {
      "text/plain": [
       "(600,)"
      ]
     },
     "execution_count": 14,
     "metadata": {},
     "output_type": "execute_result"
    }
   ],
   "source": [
    "### Select balanced training data\n",
    "indPos = np.where(labels==1)[0]\n",
    "indNeg = shuffle(np.where(labels==0)[0], random_state=42)[0:indPos.shape[0]]\n",
    "indNeg\n",
    "indNeg.shape\n"
   ]
  },
  {
   "cell_type": "code",
   "execution_count": 15,
   "metadata": {
    "colab": {
     "base_uri": "https://localhost:8080/"
    },
    "executionInfo": {
     "elapsed": 361,
     "status": "ok",
     "timestamp": 1615773012066,
     "user": {
      "displayName": "Guray Erus",
      "photoUrl": "https://lh3.googleusercontent.com/a-/AOh14GiGnBNnSM10DAl86Xzx2wV9MnzBNDvcAv6FeVBn=s64",
      "userId": "15374812584437350386"
     },
     "user_tz": 240
    },
    "id": "UOQuUoG2_hJv",
    "outputId": "5c6276d2-afb6-41bf-9789-fbe729fc5c04"
   },
   "outputs": [
    {
     "data": {
      "text/plain": [
       "235"
      ]
     },
     "execution_count": 15,
     "metadata": {},
     "output_type": "execute_result"
    }
   ],
   "source": [
    "indBal = shuffle(np.concatenate([indPos,indNeg]), random_state=42)\n",
    "\n",
    "XBal = dataMat[indBal, :]\n",
    "YBal = labels[indBal]\n",
    "\n",
    "scaler = preprocessing.StandardScaler().fit(XBal)\n",
    "XBalSc = scaler.transform(XBal)\n",
    "\n",
    "X_train, X_test, y_train, y_test = train_test_split(XBalSc, YBal, train_size = 0.6, random_state=42)\n",
    "np.sum(y_test == 0)"
   ]
  },
  {
   "cell_type": "code",
   "execution_count": 16,
   "metadata": {
    "colab": {
     "base_uri": "https://localhost:8080/"
    },
    "executionInfo": {
     "elapsed": 3849,
     "status": "ok",
     "timestamp": 1615773017944,
     "user": {
      "displayName": "Guray Erus",
      "photoUrl": "https://lh3.googleusercontent.com/a-/AOh14GiGnBNnSM10DAl86Xzx2wV9MnzBNDvcAv6FeVBn=s64",
      "userId": "15374812584437350386"
     },
     "user_tz": 240
    },
    "id": "zMVisPsxp9g_",
    "outputId": "c19613db-fa2a-4a69-b67b-d1fad8f8e2ab"
   },
   "outputs": [
    {
     "name": "stdout",
     "output_type": "stream",
     "text": [
      "Train size: 720\n",
      "Training the model ...\n",
      "Applying the model ...\n"
     ]
    }
   ],
   "source": [
    "svc = SVC(kernel='linear')\n",
    "\n",
    "print('Train size: ' + str(y_train.shape[0]))\n",
    "\n",
    "### Training the model\n",
    "print('Training the model ...')\n",
    "svc.fit(X_train, y_train)\n",
    "\n",
    "print('Applying the model ...')\n",
    "yPred = svc.predict(X_test)"
   ]
  },
  {
   "cell_type": "code",
   "execution_count": 17,
   "metadata": {
    "colab": {
     "base_uri": "https://localhost:8080/"
    },
    "executionInfo": {
     "elapsed": 237,
     "status": "ok",
     "timestamp": 1615773024436,
     "user": {
      "displayName": "Guray Erus",
      "photoUrl": "https://lh3.googleusercontent.com/a-/AOh14GiGnBNnSM10DAl86Xzx2wV9MnzBNDvcAv6FeVBn=s64",
      "userId": "15374812584437350386"
     },
     "user_tz": 240
    },
    "id": "AKo_xmXS0iMp",
    "outputId": "1edab311-8c65-4d01-df00-9c562264570f"
   },
   "outputs": [
    {
     "name": "stdout",
     "output_type": "stream",
     "text": [
      "Accuracy: 84.16666666666667\n"
     ]
    }
   ],
   "source": [
    "print( 'Accuracy: ' + str(100 * np.sum(yPred==y_test) / y_test.shape[0]))"
   ]
  }
 ],
 "metadata": {
  "colab": {
   "collapsed_sections": [],
   "name": "PrjC1_EuroSat_Classification.ipynb",
   "provenance": [
    {
     "file_id": "1wJo3Tsqy53ZwgNPy8gtZ3JgjDDQQK9vk",
     "timestamp": 1570414921066
    }
   ],
   "toc_visible": true
  },
  "kernelspec": {
   "display_name": "Python 3",
   "language": "python",
   "name": "python3"
  },
  "language_info": {
   "codemirror_mode": {
    "name": "ipython",
    "version": 3
   },
   "file_extension": ".py",
   "mimetype": "text/x-python",
   "name": "python",
   "nbconvert_exporter": "python",
   "pygments_lexer": "ipython3",
   "version": "3.8.3"
  }
 },
 "nbformat": 4,
 "nbformat_minor": 1
}
